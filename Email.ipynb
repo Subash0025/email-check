{
  "nbformat": 4,
  "nbformat_minor": 0,
  "metadata": {
    "colab": {
      "provenance": []
    },
    "kernelspec": {
      "name": "python3",
      "display_name": "Python 3"
    },
    "language_info": {
      "name": "python"
    }
  },
  "cells": [
    {
      "cell_type": "code",
      "source": [
        "s = str(input())\n",
        "a = (s.count('@')==1 and s.count('&')<=1)\n",
        "#print(a)\n",
        "count = 0\n",
        "for i in range(len(s)):\n",
        "    if s[i] == '@':\n",
        "        j = i+1\n",
        "        while True:\n",
        "            if s[j] == '.':\n",
        "                break\n",
        "            else:\n",
        "                count += 1\n",
        "                j += 1\n",
        "b = (count >= 4)\n",
        "#print(b)\n",
        "count = 0\n",
        "for i in range(len(s)):\n",
        "    if s[i] == '@':\n",
        "        break\n",
        "    else:\n",
        "        count += 1\n",
        "c = (count >= 3)\n",
        "#print(c)\n",
        "d = (str(((s[::-1])[0:4])[::-1]) == 'gmail.com')\n",
        "e = (str(((s[::-1])[0:4])[::-1]) == '.com')\n",
        "#for gmail and .com \n",
        "#print(d)\n",
        "if (('@' in s) and a and b and c and d ):\n",
        "    print(\"yes\")\n",
        "else:\n",
        "   print(\"no\")"
      ],
      "metadata": {
        "colab": {
          "base_uri": "https://localhost:8080/"
        },
        "id": "YfA6iA0-o75b",
        "outputId": "1edebe8c-87ef-4a04-fad7-5880b29cc6ff"
      },
      "execution_count": null,
      "outputs": [
        {
          "output_type": "stream",
          "name": "stdout",
          "text": [
            "subash123\n",
            "no\n"
          ]
        }
      ]
    }
  ]
}